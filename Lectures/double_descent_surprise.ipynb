{
  "cells": [
    {
      "cell_type": "markdown",
      "metadata": {
        "id": "u_zH8zVsqWtu"
      },
      "source": [
        "<h1 align=\"center\">The Surprise of Double Descent</h1>\n",
        "<hr style=\"border:2px solid gray\">"
      ]
    },
    {
      "cell_type": "markdown",
      "metadata": {
        "id": "7ysaq4UZqWtw"
      },
      "source": [
        "### Import python packages\n",
        "---"
      ]
    },
    {
      "cell_type": "code",
      "execution_count": null,
      "metadata": {
        "id": "RwPe-YrnqWtx"
      },
      "outputs": [],
      "source": [
        "import numpy as np\n",
        "import matplotlib.pyplot as plt\n",
        "\n",
        "from numpy.random import default_rng\n",
        "from sklearn.model_selection import LeaveOneOut, GridSearchCV\n",
        "from sklearn.linear_model import LinearRegression"
      ]
    },
    {
      "cell_type": "markdown",
      "metadata": {
        "id": "23_xw3kRqWt1"
      },
      "source": [
        "---\n",
        "### Data set\n",
        "---\n",
        "We use the following dataset and fit it with Legendre polynomials of various degrees $p$."
      ]
    },
    {
      "cell_type": "code",
      "execution_count": null,
      "metadata": {
        "id": "ow5vj4WBqWt1",
        "outputId": "19a00805-f47e-4892-e8ba-041ac73311e3"
      },
      "outputs": [
        {
          "data": {
            "image/png": "[encoded data removed]",
            "text/plain": [
              "<Figure size 432x288 with 1 Axes>"
            ]
          },
          "metadata": {
            "needs_background": "light"
          },
          "output_type": "display_data"
        }
      ],
      "source": [
        "data = np.array([\n",
        "    0.001399613, -0.23436656,\n",
        "    0.971629779,  0.64689524,\n",
        "    0.579119475, -0.92635765,\n",
        "    0.335693937,  0.13000706,\n",
        "    0.736736086, -0.89294863,\n",
        "    0.492572335,  0.33854780,\n",
        "    0.737133774, -1.24171910,\n",
        "    0.563693769, -0.22523318,\n",
        "    0.877603280, -0.12962722,\n",
        "    0.141426545,  0.37632006,\n",
        "    0.307203910,  0.30299077,\n",
        "    0.024509308, -0.21162739,\n",
        "    0.843665029, -0.76468719,\n",
        "    0.771206067, -0.90455412,\n",
        "    0.149670258,  0.77097952,\n",
        "    0.359605608,  0.56466366,\n",
        "    0.049612895,  0.18897607,\n",
        "    0.409898906,  0.32531750,\n",
        "    0.935457898, -0.78703491,\n",
        "    0.149476207,  0.80585375,\n",
        "    0.234315216,  0.62944986,\n",
        "    0.455297119,  0.02353327,\n",
        "    0.102696671,  0.27621694,\n",
        "    0.715372314, -1.20379729,\n",
        "    0.681745393, -0.83059624 ]).reshape(25,2)\n",
        "y = data[:,1]\n",
        "X = data[:,0:1]\n",
        "\n",
        "plt.scatter(X[:,0], y)\n",
        "plt.show()"
      ]
    },
    {
      "cell_type": "markdown",
      "metadata": {
        "id": "qxiy9Gg_qWt1"
      },
      "source": [
        "---\n",
        "### Linear regressor class\n",
        "---"
      ]
    },
    {
      "cell_type": "markdown",
      "metadata": {
        "id": "f3NmRWwaqWt2"
      },
      "source": [
        "We use the following linear regressor class for all double descent examples. It takes only the first $p$ columns from the feature matrix $F$ and computes the minimum $\\ell_2$-norm solution when $n < p$."
      ]
    },
    {
      "cell_type": "code",
      "execution_count": null,
      "metadata": {
        "id": "n_jOaRXuqWt2"
      },
      "outputs": [],
      "source": [
        "class MyRidgeRegressor:\n",
        "    def __init__(self, p=3, alpha=0.0):\n",
        "        self.p     = p\n",
        "        self.theta = None\n",
        "        self.alpha = alpha\n",
        "\n",
        "    def fit(self, F, y):\n",
        "        F = F[:, 0:self.p]\n",
        "        self.theta = np.linalg.pinv(F.transpose()@F + self.alpha*np.identity(F.shape[1]))@F.transpose()@y\n",
        "\n",
        "    def predict(self, F):\n",
        "        F = F[:, 0:self.p]\n",
        "        return F@self.theta\n",
        "\n",
        "    def set_params(self, **parameters):\n",
        "        for parameter, value in parameters.items():\n",
        "            setattr(self, parameter, value)\n",
        "        return self\n",
        "\n",
        "    def get_params(self, deep=True):\n",
        "        return {\"p\" : self.p, \"alpha\" : self.alpha}"
      ]
    },
    {
      "cell_type": "markdown",
      "metadata": {
        "id": "_XTfgbVsqWt2"
      },
      "source": [
        "---\n",
        "### Model evaluation\n",
        "---\n",
        "\n",
        "We will eventually evaluate the test error of this model by using leave-one-out cross validation where we predict for a single data point we did not train on."
      ]
    },
    {
      "cell_type": "code",
      "execution_count": null,
      "metadata": {
        "id": "mWf94dDKqWt3"
      },
      "outputs": [],
      "source": [
        "def evaluate_model(fg, X, y, n, ps, runs=10):\n",
        "    estimator = MyRidgeRegressor()\n",
        "    result = None\n",
        "    for i in range(runs):\n",
        "        F, y = fg(X, y, n, np.max(ps), random_state=i)\n",
        "\n",
        "        clf = GridSearchCV(estimator=estimator,\n",
        "                            param_grid=[{ 'p': list(ps) }],\n",
        "                            cv=LeaveOneOut(),\n",
        "                            scoring=\"neg_mean_squared_error\")\n",
        "        clf.fit(F, y)\n",
        "\n",
        "        if result is None:\n",
        "            result  = -clf.cv_results_['mean_test_score']\n",
        "        else:\n",
        "            result += -clf.cv_results_['mean_test_score']\n",
        "\n",
        "    return result / runs"
      ]
    },
    {
      "cell_type": "markdown",
      "metadata": {
        "id": "6uT04B4bqWt7"
      },
      "source": [
        "---\n",
        "#  Legendre polynomial Regression\n",
        "---\n",
        "\n",
        "Please fit the data by varying the number of Legender polynomials $p$ we use as features. Slowly increase $p$ (for example: $p=10,30,50,100,200,300,500,1000$)."
      ]
    },
    {
      "cell_type": "code",
      "execution_count": null,
      "metadata": {
        "id": "2RiHbEPdqWt7"
      },
      "outputs": [],
      "source": [
        "class LegendrePolynomialFeatures():\n",
        "    def __call__(self, X, y, n, p, random_state=42):\n",
        "        x = X if len(X.shape) == 1 else X[:,0]\n",
        "        F = np.array([]).reshape(x.shape[0], 0)\n",
        "        # Generate polynomial features\n",
        "        for deg in range(p):\n",
        "            l = np.polynomial.legendre.Legendre([0]*deg + [1], domain=[0,1])\n",
        "            F = np.insert(F, deg, l(x), axis=1)\n",
        "        return F, y"
      ]
    },
    {
      "cell_type": "markdown",
      "metadata": {
        "id": "F2iu7KwPqWt7"
      },
      "source": [
        "---\n",
        "### Demonstration\n",
        "---"
      ]
    },
    {
      "cell_type": "code",
      "execution_count": null,
      "metadata": {
        "id": "EdINfPMEqWt7"
      },
      "outputs": [],
      "source": [
        "F, _ = LegendrePolynomialFeatures()(X, y, len(y), 1000)\n",
        "g = np.linspace(0, 1, 10000)\n",
        "G, _ = LegendrePolynomialFeatures()(g, y, len(y), 1000)"
      ]
    },
    {
      "cell_type": "code",
      "execution_count": null,
      "metadata": {
        "id": "6GPhItY8qWt7",
        "outputId": "b86c386f-21b4-4d58-db10-e3c7cdd26fbf"
      },
      "outputs": [
        {
          "data": {
            "image/png": "[encoded data removed]",
            "text/plain": [
              "<Figure size 432x288 with 1 Axes>"
            ]
          },
          "metadata": {
            "needs_background": "light"
          },
          "output_type": "display_data"
        }
      ],
      "source": [
        "clf = MyRidgeRegressor(p=8)\n",
        "clf.fit(F, y)\n",
        "plt.plot(g, clf.predict(G))\n",
        "plt.scatter(X, y)\n",
        "plt.title(\"p = 8\")\n",
        "plt.xlabel(\"x\")\n",
        "plt.ylabel(\"y\")\n",
        "plt.show()"
      ]
    },
    {
      "cell_type": "markdown",
      "metadata": {
        "id": "BAOwbHT4qWt8"
      },
      "source": [
        "---\n",
        "### Results\n",
        "---"
      ]
    },
    {
      "cell_type": "code",
      "execution_count": null,
      "metadata": {
        "id": "1Nh8IHWNqWt8"
      },
      "outputs": [],
      "source": [
        "ps = list(range(3, 20)) + [30, 50, 100, 150, 200, 300, 400, 500, 1000]\n",
        "result = evaluate_model(LegendrePolynomialFeatures(), X, y, len(y), ps, runs=1)"
      ]
    },
    {
      "cell_type": "code",
      "execution_count": null,
      "metadata": {
        "id": "L9ChKfYDqWt8",
        "outputId": "3ad313ad-b8e4-4313-8e76-d58fb4c968a5"
      },
      "outputs": [
        {
          "data": {
            "image/png": "[encoded data removed]",
            "text/plain": [
              "<Figure size 432x288 with 1 Axes>"
            ]
          },
          "metadata": {
            "needs_background": "light"
          },
          "output_type": "display_data"
        }
      ],
      "source": [
        "p = plt.plot(ps, result)\n",
        "plt.axvline(x=ps[np.argmin(result)], color=p[0].get_color(), alpha=0.5, linestyle='--')\n",
        "plt.legend(scales)\n",
        "plt.xscale(\"log\")\n",
        "plt.xlabel(\"p\")\n",
        "plt.yscale(\"log\")\n",
        "plt.ylim(0.1,10)\n",
        "plt.ylabel(\"mse\")\n",
        "plt.show()"
      ]
    },
    {
      "cell_type": "code",
      "execution_count": null,
      "metadata": {
        "id": "ubbPYp-6qWt9"
      },
      "outputs": [],
      "source": []
    }
  ],
  "metadata": {
    "interpreter": {
      "hash": "edc2edf56ea13f1e22424e20afa6e48f5488415ce9d428406e2569475df17409"
    },
    "kernelspec": {
      "display_name": "Python 3.8.8 ('base')",
      "language": "python",
      "name": "python3"
    },
    "language_info": {
      "codemirror_mode": {
        "name": "ipython",
        "version": 3
      },
      "file_extension": ".py",
      "mimetype": "text/x-python",
      "name": "python",
      "nbconvert_exporter": "python",
      "pygments_lexer": "ipython3",
      "version": "3.8.8"
    },
    "orig_nbformat": 4,
    "colab": {
      "provenance": []
    }
  },
  "nbformat": 4,
  "nbformat_minor": 0
}